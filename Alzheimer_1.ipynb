{
 "cells": [
  {
   "cell_type": "markdown",
   "metadata": {},
   "source": [
    "# Importing the Necessary Libraries"
   ]
  },
  {
   "cell_type": "code",
   "execution_count": 1,
   "metadata": {},
   "outputs": [],
   "source": [
    "#### IMPORTING THE LIBERARIES REQUIRED ####\n",
    "\n",
    "import numpy as np\n",
    "import matplotlib.pyplot as plt\n",
    "import os\n",
    "import cv2\n",
    "from tqdm import tqdm"
   ]
  },
  {
   "cell_type": "markdown",
   "metadata": {},
   "source": [
    "# Loading Training set"
   ]
  },
  {
   "cell_type": "code",
   "execution_count": 2,
   "metadata": {},
   "outputs": [],
   "source": [
    "#### CONVERTING THE IMAGES TO ARRAYS ####\n",
    "\n",
    "training_data = []\n",
    "DATADIR = r\"C:\\Users\\bvraju\\Desktop\\alzheimer's_disease\\Alzheimer_s Dataset\\train\"\n",
    "CATEGORIES = [\"MildDemented\",\"ModerateDemented\",\"NonDemented\",\"VeryMildDemented\"]\n",
    "def create_training_data():\n",
    "    for category in CATEGORIES:\n",
    "        path = os.path.join(DATADIR,category)\n",
    "        class_num = CATEGORIES.index(category)\n",
    "        for img in os.listdir(path):\n",
    "            try:\n",
    "                img_array = cv2.imread(os.path.join(path,img),cv2.IMREAD_GRAYSCALE)\n",
    "                new_array = cv2.resize(img_array,(100,100))\n",
    "                training_data.append([new_array,class_num])\n",
    "            except Exception as e:\n",
    "                pass\n",
    "create_training_data()"
   ]
  },
  {
   "cell_type": "code",
   "execution_count": 3,
   "metadata": {},
   "outputs": [],
   "source": [
    "#### creating the labels for the training data ####\n",
    "\n",
    "X_data=[]\n",
    "y_data=[]\n",
    "for x,y in training_data:\n",
    "    X_label = x\n",
    "    y_label = y\n",
    "    X_data.append(X_label)\n",
    "    y_data.append(y_label)"
   ]
  },
  {
   "cell_type": "markdown",
   "metadata": {},
   "source": [
    "# saving the labels"
   ]
  },
  {
   "cell_type": "code",
   "execution_count": 4,
   "metadata": {},
   "outputs": [],
   "source": [
    "#### SAVING THE LABELS TO FILE ####\n",
    "\n",
    "import pickle\n",
    "pickle_out = open('X_LABELS_FOR_GRAYSCALE_IMAGES.pickle','wb')\n",
    "pickle.dump(X_data, pickle_out)\n",
    "pickle_out.close()\n",
    "\n",
    "pickle_out = open('y_LABELS_FOR_GRAYSCALE_IMAGES.pickle', 'wb')\n",
    "pickle.dump(y_data, pickle_out)\n",
    "pickle_out.close()"
   ]
  },
  {
   "cell_type": "markdown",
   "metadata": {},
   "source": [
    "# loading the labels from the saved file"
   ]
  },
  {
   "cell_type": "code",
   "execution_count": 2,
   "metadata": {},
   "outputs": [],
   "source": [
    "\n",
    "X_Temp = open('X_LABELS_FOR_GRAYSCALE_IMAGES.pickle','rb')\n",
    "y_Temp = open('y_LABELS_FOR_GRAYSCALE_IMAGES.pickle','rb')\n",
    "import pickle   \n",
    "X = pickle.load(X_Temp)\n",
    "y = pickle.load(y_Temp) \n",
    "X_Temp.close()\n",
    "y_Temp.close()"
   ]
  },
  {
   "cell_type": "code",
   "execution_count": 3,
   "metadata": {},
   "outputs": [
    {
     "name": "stdout",
     "output_type": "stream",
     "text": [
      "shape of the image (100, 100)\n",
      "number of total examples (training + valdation + testing) =  5121\n",
      "(5121, 100, 100, 1) (5121, 1)\n"
     ]
    }
   ],
   "source": [
    "\n",
    "print(\"shape of the image\",X[0].shape)\n",
    "\n",
    "\n",
    "from sklearn.utils import shuffle            # Shuffling the data \n",
    "X,y = shuffle(X,y, random_state=2)\n",
    "\n",
    "import numpy as np    \n",
    "X = np.array(X).reshape(-1, 100,100, 1)       # reshaping and converting them to array\n",
    "y = np.array(y).reshape(-1,1)\n",
    "X = np.array(X/255.0)\n",
    "\n",
    "print(\"number of total examples (training + valdation + testing) = \",len(X))\n",
    "print(X.shape,y.shape)"
   ]
  },
  {
   "cell_type": "markdown",
   "metadata": {},
   "source": [
    "# Splliting the data into Train and Test set"
   ]
  },
  {
   "cell_type": "code",
   "execution_count": 4,
   "metadata": {},
   "outputs": [
    {
     "name": "stdout",
     "output_type": "stream",
     "text": [
      "(4608, 100, 100, 1) (513, 100, 100, 1) (4608, 1) (513, 1)\n"
     ]
    }
   ],
   "source": [
    "#### SPLLITING THE DATA INTO TRAIN (training set includes validation set) AND TEST SET ####\n",
    "\n",
    "from sklearn.model_selection import train_test_split\n",
    "X_train, X_test, y_train, y_test = train_test_split(X, y, test_size=0.1, random_state=2)\n",
    "print(X_train.shape, X_test.shape, y_train.shape, y_test.shape)"
   ]
  },
  {
   "cell_type": "markdown",
   "metadata": {},
   "source": [
    "# MODEL"
   ]
  },
  {
   "cell_type": "code",
   "execution_count": 5,
   "metadata": {},
   "outputs": [],
   "source": [
    "#### CREATING THE MODEL ####\n",
    "\n",
    "import tensorflow as tf\n",
    "from tensorflow.keras.datasets import cifar10\n",
    "from tensorflow.keras.preprocessing.image import ImageDataGenerator\n",
    "from tensorflow.keras.models import Sequential\n",
    "from tensorflow.keras.layers import Dense, Dropout, Activation, Flatten\n",
    "from tensorflow.keras.layers import Conv2D, MaxPooling2D\n",
    "\n",
    "model = Sequential()\n",
    "\n",
    "model.add(Conv2D(64,(3,3),input_shape = X_train.shape[1:]))\n",
    "model.add(Activation(\"relu\"))\n",
    "model.add(MaxPooling2D(pool_size=(2,2)))\n",
    "\n",
    "model.add(Conv2D(64,(3,3)))\n",
    "model.add(Activation(\"relu\"))\n",
    "model.add(MaxPooling2D(pool_size=(2,2)))\n",
    "\n",
    "model.add(Conv2D(64,(3,3)))\n",
    "model.add(Activation(\"relu\"))\n",
    "model.add(MaxPooling2D(pool_size=(2,2)))\n",
    "\n",
    "model.add(Conv2D(64,(3,3)))\n",
    "model.add(Activation(\"relu\"))\n",
    "model.add(MaxPooling2D(pool_size=(2,2)))\n",
    "\n",
    "model.add(Conv2D(64,(3,3)))\n",
    "model.add(Activation(\"relu\"))\n",
    "model.add(MaxPooling2D(pool_size=(2,2)))\n",
    "\n",
    "\n",
    "model.add(Flatten())\n",
    "model.add(Dense(64))\n",
    "\n",
    "model.add(Dense(4))\n",
    "model.add(Activation('softmax'))\n",
    "\n",
    "model.compile(loss='sparse_categorical_crossentropy',\n",
    "            optimizer='adam',\n",
    "            metrics=['accuracy'])"
   ]
  },
  {
   "cell_type": "code",
   "execution_count": 6,
   "metadata": {},
   "outputs": [
    {
     "name": "stdout",
     "output_type": "stream",
     "text": [
      "Model: \"sequential\"\n",
      "_________________________________________________________________\n",
      "Layer (type)                 Output Shape              Param #   \n",
      "=================================================================\n",
      "conv2d (Conv2D)              (None, 98, 98, 64)        640       \n",
      "_________________________________________________________________\n",
      "activation (Activation)      (None, 98, 98, 64)        0         \n",
      "_________________________________________________________________\n",
      "max_pooling2d (MaxPooling2D) (None, 49, 49, 64)        0         \n",
      "_________________________________________________________________\n",
      "conv2d_1 (Conv2D)            (None, 47, 47, 64)        36928     \n",
      "_________________________________________________________________\n",
      "activation_1 (Activation)    (None, 47, 47, 64)        0         \n",
      "_________________________________________________________________\n",
      "max_pooling2d_1 (MaxPooling2 (None, 23, 23, 64)        0         \n",
      "_________________________________________________________________\n",
      "conv2d_2 (Conv2D)            (None, 21, 21, 64)        36928     \n",
      "_________________________________________________________________\n",
      "activation_2 (Activation)    (None, 21, 21, 64)        0         \n",
      "_________________________________________________________________\n",
      "max_pooling2d_2 (MaxPooling2 (None, 10, 10, 64)        0         \n",
      "_________________________________________________________________\n",
      "conv2d_3 (Conv2D)            (None, 8, 8, 64)          36928     \n",
      "_________________________________________________________________\n",
      "activation_3 (Activation)    (None, 8, 8, 64)          0         \n",
      "_________________________________________________________________\n",
      "max_pooling2d_3 (MaxPooling2 (None, 4, 4, 64)          0         \n",
      "_________________________________________________________________\n",
      "conv2d_4 (Conv2D)            (None, 2, 2, 64)          36928     \n",
      "_________________________________________________________________\n",
      "activation_4 (Activation)    (None, 2, 2, 64)          0         \n",
      "_________________________________________________________________\n",
      "max_pooling2d_4 (MaxPooling2 (None, 1, 1, 64)          0         \n",
      "_________________________________________________________________\n",
      "flatten (Flatten)            (None, 64)                0         \n",
      "_________________________________________________________________\n",
      "dense (Dense)                (None, 64)                4160      \n",
      "_________________________________________________________________\n",
      "dense_1 (Dense)              (None, 4)                 260       \n",
      "_________________________________________________________________\n",
      "activation_5 (Activation)    (None, 4)                 0         \n",
      "=================================================================\n",
      "Total params: 152,772\n",
      "Trainable params: 152,772\n",
      "Non-trainable params: 0\n",
      "_________________________________________________________________\n"
     ]
    }
   ],
   "source": [
    "model.summary()"
   ]
  },
  {
   "cell_type": "markdown",
   "metadata": {},
   "source": [
    "# TRAINING"
   ]
  },
  {
   "cell_type": "code",
   "execution_count": 7,
   "metadata": {
    "scrolled": false
   },
   "outputs": [
    {
     "name": "stdout",
     "output_type": "stream",
     "text": [
      "Train on 3916 samples, validate on 692 samples\n",
      "Epoch 1/50\n",
      "3916/3916 [==============================] - 81s 21ms/sample - loss: 1.0663 - accuracy: 0.4913 - val_loss: 1.0187 - val_accuracy: 0.5260\n",
      "Epoch 2/50\n",
      "3916/3916 [==============================] - 82s 21ms/sample - loss: 1.0074 - accuracy: 0.5174 - val_loss: 0.9527 - val_accuracy: 0.5419\n",
      "Epoch 3/50\n",
      "3916/3916 [==============================] - 84s 21ms/sample - loss: 0.9311 - accuracy: 0.5475 - val_loss: 0.9678 - val_accuracy: 0.5491\n",
      "Epoch 4/50\n",
      "3916/3916 [==============================] - 81s 21ms/sample - loss: 0.9111 - accuracy: 0.5689 - val_loss: 0.8890 - val_accuracy: 0.5968\n",
      "Epoch 5/50\n",
      "3916/3916 [==============================] - 81s 21ms/sample - loss: 0.8659 - accuracy: 0.5917 - val_loss: 0.8462 - val_accuracy: 0.6055\n",
      "Epoch 6/50\n",
      "3916/3916 [==============================] - 81s 21ms/sample - loss: 0.8365 - accuracy: 0.6149 - val_loss: 0.8063 - val_accuracy: 0.6185\n",
      "Epoch 7/50\n",
      "3916/3916 [==============================] - 81s 21ms/sample - loss: 0.7930 - accuracy: 0.6282 - val_loss: 0.7983 - val_accuracy: 0.6243\n",
      "Epoch 8/50\n",
      "3916/3916 [==============================] - 82s 21ms/sample - loss: 0.7501 - accuracy: 0.6668 - val_loss: 0.7240 - val_accuracy: 0.6618\n",
      "Epoch 9/50\n",
      "3916/3916 [==============================] - 81s 21ms/sample - loss: 0.6654 - accuracy: 0.6997 - val_loss: 0.6570 - val_accuracy: 0.7168\n",
      "Epoch 10/50\n",
      "3916/3916 [==============================] - 81s 21ms/sample - loss: 0.5717 - accuracy: 0.7464 - val_loss: 0.5941 - val_accuracy: 0.7327\n",
      "Epoch 11/50\n",
      "3916/3916 [==============================] - 83s 21ms/sample - loss: 0.4714 - accuracy: 0.8001 - val_loss: 0.6379 - val_accuracy: 0.7327\n",
      "Epoch 12/50\n",
      "3916/3916 [==============================] - 83s 21ms/sample - loss: 0.4333 - accuracy: 0.8205 - val_loss: 0.5900 - val_accuracy: 0.7775\n",
      "Epoch 13/50\n",
      "3916/3916 [==============================] - 81s 21ms/sample - loss: 0.2995 - accuracy: 0.8782 - val_loss: 0.4587 - val_accuracy: 0.8194\n",
      "Epoch 14/50\n",
      "3916/3916 [==============================] - 81s 21ms/sample - loss: 0.2380 - accuracy: 0.9106 - val_loss: 0.3695 - val_accuracy: 0.8598\n",
      "Epoch 15/50\n",
      "3916/3916 [==============================] - 82s 21ms/sample - loss: 0.2011 - accuracy: 0.9236 - val_loss: 0.3729 - val_accuracy: 0.8613\n",
      "Epoch 16/50\n",
      "3916/3916 [==============================] - 81s 21ms/sample - loss: 0.1562 - accuracy: 0.9451 - val_loss: 0.2656 - val_accuracy: 0.8902\n",
      "Epoch 17/50\n",
      "3916/3916 [==============================] - 67s 17ms/sample - loss: 0.0780 - accuracy: 0.9745 - val_loss: 0.1747 - val_accuracy: 0.9335\n",
      "Epoch 18/50\n",
      "3916/3916 [==============================] - 64s 16ms/sample - loss: 0.0575 - accuracy: 0.9824 - val_loss: 0.2818 - val_accuracy: 0.9003\n",
      "Epoch 19/50\n",
      "3916/3916 [==============================] - 75s 19ms/sample - loss: 0.0584 - accuracy: 0.9791 - val_loss: 0.1871 - val_accuracy: 0.9364\n",
      "Epoch 20/50\n",
      "3916/3916 [==============================] - 79s 20ms/sample - loss: 0.0490 - accuracy: 0.9826 - val_loss: 0.2232 - val_accuracy: 0.9292\n",
      "Epoch 21/50\n",
      "3916/3916 [==============================] - 70s 18ms/sample - loss: 0.0665 - accuracy: 0.9747 - val_loss: 0.2078 - val_accuracy: 0.9249\n",
      "Epoch 22/50\n",
      "3916/3916 [==============================] - 79s 20ms/sample - loss: 0.0334 - accuracy: 0.9900 - val_loss: 0.1821 - val_accuracy: 0.9465\n",
      "Epoch 23/50\n",
      "3916/3916 [==============================] - 79s 20ms/sample - loss: 0.0227 - accuracy: 0.9939 - val_loss: 0.1887 - val_accuracy: 0.9480\n",
      "Epoch 24/50\n",
      "3916/3916 [==============================] - 65s 17ms/sample - loss: 0.0141 - accuracy: 0.9959 - val_loss: 0.1498 - val_accuracy: 0.9624\n",
      "Epoch 25/50\n",
      "3916/3916 [==============================] - 68s 17ms/sample - loss: 0.0051 - accuracy: 0.9995 - val_loss: 0.1549 - val_accuracy: 0.9595\n",
      "Epoch 26/50\n",
      "3916/3916 [==============================] - 77s 20ms/sample - loss: 0.0013 - accuracy: 1.0000 - val_loss: 0.1219 - val_accuracy: 0.9624\n",
      "Epoch 27/50\n",
      "3916/3916 [==============================] - 74s 19ms/sample - loss: 6.5732e-04 - accuracy: 1.0000 - val_loss: 0.1248 - val_accuracy: 0.9639\n",
      "Epoch 28/50\n",
      "3916/3916 [==============================] - 78s 20ms/sample - loss: 5.3322e-04 - accuracy: 1.0000 - val_loss: 0.1221 - val_accuracy: 0.9668\n",
      "Epoch 29/50\n",
      "3916/3916 [==============================] - 79s 20ms/sample - loss: 4.4092e-04 - accuracy: 1.0000 - val_loss: 0.1232 - val_accuracy: 0.9639\n",
      "Epoch 30/50\n",
      "3916/3916 [==============================] - 79s 20ms/sample - loss: 3.7925e-04 - accuracy: 1.0000 - val_loss: 0.1236 - val_accuracy: 0.9668\n",
      "Epoch 31/50\n",
      "3916/3916 [==============================] - 55s 14ms/sample - loss: 3.3755e-04 - accuracy: 1.0000 - val_loss: 0.1219 - val_accuracy: 0.9668\n",
      "Epoch 32/50\n",
      "3916/3916 [==============================] - 52s 13ms/sample - loss: 3.0683e-04 - accuracy: 1.0000 - val_loss: 0.1220 - val_accuracy: 0.9668\n",
      "Epoch 33/50\n",
      "3916/3916 [==============================] - 53s 14ms/sample - loss: 2.7137e-04 - accuracy: 1.0000 - val_loss: 0.1241 - val_accuracy: 0.9668\n",
      "Epoch 34/50\n",
      "3916/3916 [==============================] - 53s 13ms/sample - loss: 2.4530e-04 - accuracy: 1.0000 - val_loss: 0.1227 - val_accuracy: 0.9668\n",
      "Epoch 35/50\n",
      "3916/3916 [==============================] - 53s 14ms/sample - loss: 2.2429e-04 - accuracy: 1.0000 - val_loss: 0.1243 - val_accuracy: 0.9668\n",
      "Epoch 36/50\n",
      "3916/3916 [==============================] - 52s 13ms/sample - loss: 2.0644e-04 - accuracy: 1.0000 - val_loss: 0.1234 - val_accuracy: 0.9682\n",
      "Epoch 37/50\n",
      "3916/3916 [==============================] - 53s 13ms/sample - loss: 1.8983e-04 - accuracy: 1.0000 - val_loss: 0.1255 - val_accuracy: 0.9653\n",
      "Epoch 38/50\n",
      "3916/3916 [==============================] - 51s 13ms/sample - loss: 1.7778e-04 - accuracy: 1.0000 - val_loss: 0.1237 - val_accuracy: 0.9682\n",
      "Epoch 39/50\n",
      "3916/3916 [==============================] - 51s 13ms/sample - loss: 1.6241e-04 - accuracy: 1.0000 - val_loss: 0.1252 - val_accuracy: 0.9682\n",
      "Epoch 40/50\n",
      "3916/3916 [==============================] - 52s 13ms/sample - loss: 1.5129e-04 - accuracy: 1.0000 - val_loss: 0.1264 - val_accuracy: 0.9668\n",
      "Epoch 41/50\n",
      "3916/3916 [==============================] - 51s 13ms/sample - loss: 1.4179e-04 - accuracy: 1.0000 - val_loss: 0.1274 - val_accuracy: 0.9668\n",
      "Epoch 42/50\n",
      "3916/3916 [==============================] - 52s 13ms/sample - loss: 1.2934e-04 - accuracy: 1.0000 - val_loss: 0.1272 - val_accuracy: 0.9668\n",
      "Epoch 43/50\n",
      "3916/3916 [==============================] - 51s 13ms/sample - loss: 1.2077e-04 - accuracy: 1.0000 - val_loss: 0.1279 - val_accuracy: 0.9668\n",
      "Epoch 44/50\n",
      "3916/3916 [==============================] - 51s 13ms/sample - loss: 1.1371e-04 - accuracy: 1.0000 - val_loss: 0.1286 - val_accuracy: 0.9682\n",
      "Epoch 45/50\n",
      "3916/3916 [==============================] - 58s 15ms/sample - loss: 1.0695e-04 - accuracy: 1.0000 - val_loss: 0.1295 - val_accuracy: 0.9668\n",
      "Epoch 46/50\n",
      "3916/3916 [==============================] - 52s 13ms/sample - loss: 9.9455e-05 - accuracy: 1.0000 - val_loss: 0.1282 - val_accuracy: 0.9668\n",
      "Epoch 47/50\n",
      "3916/3916 [==============================] - 54s 14ms/sample - loss: 9.2035e-05 - accuracy: 1.0000 - val_loss: 0.1322 - val_accuracy: 0.9668\n",
      "Epoch 48/50\n",
      "3916/3916 [==============================] - 51s 13ms/sample - loss: 8.8243e-05 - accuracy: 1.0000 - val_loss: 0.1299 - val_accuracy: 0.9682\n",
      "Epoch 49/50\n",
      "3916/3916 [==============================] - 52s 13ms/sample - loss: 8.3039e-05 - accuracy: 1.0000 - val_loss: 0.1310 - val_accuracy: 0.9682\n",
      "Epoch 50/50\n",
      "3916/3916 [==============================] - 52s 13ms/sample - loss: 7.7847e-05 - accuracy: 1.0000 - val_loss: 0.1311 - val_accuracy: 0.9682\n"
     ]
    }
   ],
   "source": [
    "#### TRAINING THE MODEL AND TESTING ON VALIDATION SET ####\n",
    "num_epochs=50\n",
    "hist = model.fit(X_train,y_train,batch_size=64,epochs=num_epochs,validation_split=0.15) "
   ]
  },
  {
   "cell_type": "markdown",
   "metadata": {},
   "source": [
    "# VISUALIZING LOSS AND ACCURACY"
   ]
  },
  {
   "cell_type": "code",
   "execution_count": 8,
   "metadata": {},
   "outputs": [
    {
     "data": {
      "image/png": "[encoded data removed]",
      "text/plain": [
       "<Figure size 504x360 with 1 Axes>"
      ]
     },
     "metadata": {
      "needs_background": "light"
     },
     "output_type": "display_data"
    },
    {
     "data": {
      "image/png": "[encoded data removed]",
      "text/plain": [
       "<Figure size 504x360 with 1 Axes>"
      ]
     },
     "metadata": {
      "needs_background": "light"
     },
     "output_type": "display_data"
    }
   ],
   "source": [
    "#### VISUALIZING THE LOSS AND ACCURACY ####\n",
    "\n",
    "import matplotlib.pyplot as plt\n",
    "\n",
    "train_loss=hist.history['loss']\n",
    "val_loss=hist.history['val_loss']\n",
    "train_acc=hist.history['accuracy']\n",
    "val_acc=hist.history['val_accuracy']\n",
    "xc=range(num_epochs)\n",
    "\n",
    "plt.figure(1,figsize=(7,5))\n",
    "plt.plot(xc,train_loss)\n",
    "plt.plot(xc,val_loss)\n",
    "plt.xlabel('num of Epochs')\n",
    "plt.ylabel('loss')\n",
    "plt.title('train_loss vs val_loss')\n",
    "plt.grid(True)\n",
    "plt.legend(['train','val'])\n",
    "#print plt.style.available # use bmh, classic,ggplot for big pictures\n",
    "#plt.style.use(['classic'])\n",
    "\n",
    "plt.figure(2,figsize=(7,5))\n",
    "plt.plot(xc,train_acc)\n",
    "plt.plot(xc,val_acc)\n",
    "plt.xlabel('num of Epochs')\n",
    "plt.ylabel('accuracy')\n",
    "plt.title('train_acc vs val_acc')\n",
    "plt.grid(True)\n",
    "plt.legend(['train','val'],loc=4)\n",
    "#print plt.style.available # use bmh, classic,ggplot for big pictures\n",
    "#plt.style.use(['classic'])\n",
    "\n",
    "plt.show()"
   ]
  },
  {
   "cell_type": "markdown",
   "metadata": {},
   "source": [
    "# Saving the TRAINED weights"
   ]
  },
  {
   "cell_type": "code",
   "execution_count": 10,
   "metadata": {},
   "outputs": [
    {
     "name": "stdout",
     "output_type": "stream",
     "text": [
      "press 1 to continue...1\n",
      "saved the new weights\n"
     ]
    }
   ],
   "source": [
    "#### SAVING THE TRAINED WEIGHTS (helps to avoid multiple times of training the model) ####\n",
    "\n",
    "sure = int(input(\"press 1 to continue...\"))\n",
    "if sure == 1:\n",
    "    fname = \"model_TRAINED_WEIGHTS\"\n",
    "    model.save_weights(fname , overwrite=True)\n",
    "    print(\"saved the new weights\")\n",
    "else:\n",
    "    print(\"no new weights are saved\")    "
   ]
  },
  {
   "cell_type": "markdown",
   "metadata": {},
   "source": [
    "# Loading the TRAINED weights"
   ]
  },
  {
   "cell_type": "code",
   "execution_count": 11,
   "metadata": {},
   "outputs": [
    {
     "data": {
      "text/plain": [
       "<tensorflow.python.training.tracking.util.CheckpointLoadStatus at 0x15a373aa748>"
      ]
     },
     "execution_count": 11,
     "metadata": {},
     "output_type": "execute_result"
    }
   ],
   "source": [
    "#### LOADING THE WEIGHTS(this step can be skipped) ####\n",
    "\n",
    "fname = \"model_TRAINED_WEIGHTS\"\n",
    "model.load_weights(fname)"
   ]
  },
  {
   "cell_type": "markdown",
   "metadata": {},
   "source": [
    "# PREDICTING on TEST SET"
   ]
  },
  {
   "cell_type": "code",
   "execution_count": 12,
   "metadata": {},
   "outputs": [
    {
     "name": "stdout",
     "output_type": "stream",
     "text": [
      "prediction on  513  images.\n"
     ]
    }
   ],
   "source": [
    "#### PREDICTING THE CLASSES FOR THE TEST SET ####\n",
    "\n",
    "predicted=model.predict_classes([X_test])\n",
    "\n",
    "print(\"prediction on \", len(predicted),\" images.\")"
   ]
  },
  {
   "cell_type": "code",
   "execution_count": 15,
   "metadata": {},
   "outputs": [
    {
     "name": "stdout",
     "output_type": "stream",
     "text": [
      "accuracy on test set:  0.9688109161793372\n"
     ]
    }
   ],
   "source": [
    "from sklearn.metrics import accuracy_score\n",
    "print(\"accuracy on test set: \",accuracy_score(predicted,y_test))  "
   ]
  },
  {
   "cell_type": "markdown",
   "metadata": {},
   "source": [
    "## =================================\n",
    "#   MODEL ACCURACY 96.88%\n",
    "## ================================="
   ]
  },
  {
   "cell_type": "code",
   "execution_count": null,
   "metadata": {},
   "outputs": [],
   "source": []
  }
 ],
 "metadata": {
  "kernelspec": {
   "display_name": "Python 3",
   "language": "python",
   "name": "python3"
  },
  "language_info": {
   "codemirror_mode": {
    "name": "ipython",
    "version": 3
   },
   "file_extension": ".py",
   "mimetype": "text/x-python",
   "name": "python",
   "nbconvert_exporter": "python",
   "pygments_lexer": "ipython3",
   "version": "3.7.6"
  }
 },
 "nbformat": 4,
 "nbformat_minor": 4
}
